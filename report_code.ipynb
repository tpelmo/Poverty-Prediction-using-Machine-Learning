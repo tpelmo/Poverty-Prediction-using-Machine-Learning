{
 "cells": [
  {
   "cell_type": "code",
   "execution_count": null,
   "id": "752021a9",
   "metadata": {},
   "outputs": [],
   "source": [
    "%load_ext autoreload\n",
    "%autoreload 2 "
   ]
  },
  {
   "cell_type": "code",
   "execution_count": null,
   "id": "0750b353",
   "metadata": {},
   "outputs": [],
   "source": [
    "import pandas as pd\n",
    "import numpy as np\n",
    "import matplotlib.pyplot as plt \n",
    "import seaborn as sns\n",
    "from collections import OrderedDict\n",
    "plt.rcParams[\"font.family\"] = \"Times New Roman\"\n",
    "import warnings\n",
    "warnings.filterwarnings('ignore')"
   ]
  },
  {
   "cell_type": "code",
   "execution_count": null,
   "id": "a7baa907",
   "metadata": {},
   "outputs": [],
   "source": [
    "from sklearn.ensemble import RandomForestClassifier\n",
    "from sklearn.metrics import f1_score, make_scorer \n",
    "from sklearn.model_selection import cross_val_score\n",
    "from sklearn.impute import SimpleImputer\n",
    "from sklearn.preprocessing import MinMaxScaler\n",
    "from sklearn.pipeline import Pipeline\n",
    "from sklearn.metrics import confusion_matrix, r2_score, mean_absolute_error\n",
    "from sklearn.model_selection import train_test_split\n",
    "from sklearn.utils import resample\n",
    "from sklearn.metrics import ConfusionMatrixDisplay\n",
    "from sklearn.metrics import accuracy_score\n",
    "from sklearn.metrics import make_scorer\n",
    "from sklearn.metrics import precision_score\n",
    "from sklearn.metrics import recall_score"
   ]
  },
  {
   "cell_type": "code",
   "execution_count": null,
   "id": "cebb7849",
   "metadata": {},
   "outputs": [],
   "source": [
    "from sklearn.svm import SVC\n",
    "from sklearn.discriminant_analysis import LinearDiscriminantAnalysis\n",
    "from sklearn.decomposition import PCA\n",
    "from sklearn.manifold import TSNE\n",
    "from sklearn.ensemble import RandomForestClassifier\n",
    "from sklearn.linear_model import LogisticRegression\n",
    "from sklearn.metrics import precision_recall_fscore_support\n",
    "from sklearn.tree import DecisionTreeClassifier\n",
    "from sklearn.model_selection import cross_validate"
   ]
  },
  {
   "cell_type": "code",
   "execution_count": null,
   "id": "e4cb88f9",
   "metadata": {},
   "outputs": [],
   "source": [
    "data = pd.read_csv('poverty_prediction_data.csv')"
   ]
  },
  {
   "cell_type": "code",
   "execution_count": null,
   "id": "1faa1d1d",
   "metadata": {},
   "outputs": [],
   "source": [
    "# Labels for training\n",
    "train_labels = np.array(list(data[data['Target'].notnull()]['Target'].astype(np.uint8)))\n",
    "# Extract the training data\n",
    "train_set = data[data['Target'].notnull()].drop(columns = ['Id', 'idhogar', 'Target'])"
   ]
  },
  {
   "cell_type": "code",
   "execution_count": null,
   "id": "d36e47d8",
   "metadata": {},
   "outputs": [],
   "source": [
    "train_set.info()"
   ]
  },
  {
   "cell_type": "code",
   "execution_count": null,
   "id": "79547748",
   "metadata": {},
   "outputs": [],
   "source": [
    "features = list(train_set.columns)\n",
    "pipeline = Pipeline([('imputer', SimpleImputer(strategy = 'median')), \n",
    "                      ('scaler', MinMaxScaler())])\n",
    "# Fit and transform training data\n",
    "train_set = pipeline.fit_transform(train_set)\n"
   ]
  },
  {
   "cell_type": "code",
   "execution_count": null,
   "id": "6e0b5245",
   "metadata": {},
   "outputs": [],
   "source": [
    "scoring = {'accuracy': make_scorer(accuracy_score),\n",
    "           'f1_score': make_scorer(f1_score, greater_is_better=True, average = 'weighted'),\n",
    "           'precision_score': make_scorer(precision_score, greater_is_better=True, average = 'weighted', zero_division=1),\n",
    "           'recall_score': make_scorer(recall_score, greater_is_better=True, average = 'weighted')\n",
    "          }"
   ]
  },
  {
   "cell_type": "code",
   "execution_count": null,
   "id": "64a1afab",
   "metadata": {},
   "outputs": [],
   "source": [
    "# run each classifier with 10-fold cross validation \n",
    "def run_classifier(X, y, clf_name):\n",
    "    print(f'\\n --- {clf_name} classifier')\n",
    "    if clf_name == 'log_reg':\n",
    "        clf = LogisticRegression()\n",
    "    elif clf_name == 'svm':\n",
    "        clf = SVC()\n",
    "    elif clf_name == 'lda':\n",
    "        clf = LinearDiscriminantAnalysis()\n",
    "    elif clf_name == 'decision_tree':\n",
    "        clf = DecisionTreeClassifier()\n",
    "    elif clf_name == 'random_forest':\n",
    "        clf = RandomForestClassifier()\n",
    "    cv_results = cross_validate(clf, X, y, cv=10, return_train_score=True, scoring=scoring)\n",
    "    train_acc = cv_results['train_accuracy']\n",
    "    train_f1_score = cv_results['train_f1_score']\n",
    "    train_precision = cv_results['train_precision_score']\n",
    "    train_recall = cv_results['train_recall_score']\n",
    "    print(f'Training:\\n\\taccuracy {np.mean(train_acc):.2f}')\n",
    "    print(f'\\t precision score {np.mean(train_precision):.2f}')\n",
    "    print(f'\\t recall score {np.mean(train_recall):.2f}')\n",
    "    print(f'\\t f1 score {np.mean(train_f1_score):.2f}')\n",
    "    # print(f'{np.mean(train_acc):.2f},  {np.mean(train_precision):.2f}, {np.mean(train_recall):.2f}, {np.mean(train_f1_score):.2f} ')\n",
    "    test_acc = cv_results['test_accuracy']\n",
    "    test_f1_score = cv_results['test_f1_score']\n",
    "    test_precision = cv_results['test_precision_score']\n",
    "    test_recall = cv_results['test_recall_score']\n",
    "    print(f'Testing :\\n\\taccuracy {np.mean(test_acc):.2f}')\n",
    "    print(f'\\t precision score {np.mean(test_precision):.2f}')\n",
    "    print(f'\\t recall score {np.mean(test_recall):.2f}')\n",
    "    print(f'\\t f1 score {np.mean(test_f1_score):.2f}')"
   ]
  },
  {
   "cell_type": "code",
   "execution_count": null,
   "id": "20c7d929",
   "metadata": {
    "scrolled": true
   },
   "outputs": [],
   "source": [
    "## 10-fold cross validation scores for imbalanced training\n",
    "run_classifier(train_set, train_labels, 'lda')\n",
    "run_classifier(train_set, train_labels, 'log_reg')\n",
    "run_classifier(train_set, train_labels, 'svm')\n",
    "run_classifier(train_set, train_labels, 'decision_tree')\n",
    "run_classifier(train_set, train_labels, 'random_forest')"
   ]
  },
  {
   "cell_type": "code",
   "execution_count": null,
   "id": "6b08bc4c",
   "metadata": {},
   "outputs": [],
   "source": [
    "# # random forest confusion matrix\n",
    "# cm = confusion_matrix(y_test, predictions, labels=clf.classes_)\n",
    "# disp = ConfusionMatrixDisplay(confusion_matrix=cm,\n",
    "#                               display_labels=clf.classes_)\n",
    "# disp.plot()\n",
    "# plt.show()"
   ]
  },
  {
   "cell_type": "markdown",
   "id": "db41155a",
   "metadata": {},
   "source": [
    "### upsampling the data"
   ]
  },
  {
   "cell_type": "code",
   "execution_count": null,
   "id": "a376a007",
   "metadata": {},
   "outputs": [],
   "source": [
    "from imblearn.pipeline import Pipeline, make_pipeline\n",
    "from imblearn.over_sampling import SMOTE"
   ]
  },
  {
   "cell_type": "code",
   "execution_count": null,
   "id": "adddb19d",
   "metadata": {},
   "outputs": [],
   "source": [
    "# imblearn pipeline makes sure we cross-validate on the original non-upsampled data"
   ]
  },
  {
   "cell_type": "code",
   "execution_count": null,
   "id": "4a3d9e5a",
   "metadata": {},
   "outputs": [],
   "source": [
    "# run each classifier with 10-fold cross validation \n",
    "def run_classifier_with_upsampling(X, y, clf_name):\n",
    "    print(f'\\n --- {clf_name} classifier')\n",
    "    if clf_name == 'log_reg':\n",
    "        clf = LogisticRegression()\n",
    "    elif clf_name == 'svm':\n",
    "        clf = SVC()\n",
    "    elif clf_name == 'lda':\n",
    "        clf = LinearDiscriminantAnalysis()\n",
    "    elif clf_name == 'decision_tree':\n",
    "        clf = DecisionTreeClassifier()\n",
    "    elif clf_name == 'random_forest':\n",
    "        clf = RandomForestClassifier()\n",
    "    imba_pipeline = make_pipeline(SMOTE(random_state=42), clf)\n",
    "    cv_results = cross_validate(imba_pipeline, X, y, cv=10, return_train_score=True, scoring=scoring)\n",
    "    train_acc = cv_results['train_accuracy']\n",
    "    train_f1_score = cv_results['train_f1_score']\n",
    "    train_precision = cv_results['train_precision_score']\n",
    "    train_recall = cv_results['train_recall_score']\n",
    "    print(f'Training:\\n\\taccuracy {np.mean(train_acc):.2f}')\n",
    "    print(f'\\t precision score {np.mean(train_precision):.2f}')\n",
    "    print(f'\\t recall score {np.mean(train_recall):.2f}')\n",
    "    print(f'\\t f1 score {np.mean(train_f1_score):.2f}')\n",
    "    # print(f'{np.mean(train_acc):.2f},  {np.mean(train_precision):.2f}, {np.mean(train_recall):.2f}, {np.mean(train_f1_score):.2f} ')\n",
    "    test_acc = cv_results['test_accuracy']\n",
    "    test_f1_score = cv_results['test_f1_score']\n",
    "    test_precision = cv_results['test_precision_score']\n",
    "    test_recall = cv_results['test_recall_score']\n",
    "    print(f'Testing :\\n\\taccuracy {np.mean(test_acc):.2f}')\n",
    "    print(f'\\t precision score {np.mean(test_precision):.2f}')\n",
    "    print(f'\\t recall score {np.mean(test_recall):.2f}')\n",
    "    print(f'\\t f1 score {np.mean(test_f1_score):.2f}')"
   ]
  },
  {
   "cell_type": "code",
   "execution_count": null,
   "id": "5fbdf69f",
   "metadata": {},
   "outputs": [],
   "source": [
    "## 10-fold cross validation scores\n",
    "run_classifier_with_upsampling(train_set, train_labels, 'lda')\n",
    "run_classifier_with_upsampling(train_set, train_labels, 'log_reg')\n",
    "run_classifier_with_upsampling(train_set, train_labels, 'svm')\n",
    "run_classifier_with_upsampling(train_set, train_labels, 'decision_tree')\n",
    "run_classifier_with_upsampling(train_set, train_labels, 'random_forest')"
   ]
  },
  {
   "cell_type": "markdown",
   "id": "febf9502",
   "metadata": {},
   "source": [
    "### confusion matrix display"
   ]
  },
  {
   "cell_type": "code",
   "execution_count": null,
   "id": "8150151d",
   "metadata": {},
   "outputs": [],
   "source": [
    "X_train, X_test, y_train, y_test = train_test_split(\n",
    "    train_set, train_labels, test_size=0.2, random_state=42, stratify=train_labels)"
   ]
  },
  {
   "cell_type": "code",
   "execution_count": null,
   "id": "36a02cd1",
   "metadata": {},
   "outputs": [],
   "source": [
    "# confusion matrix without imbalanced correction\n",
    "clf = RandomForestClassifier()\n",
    "clf.fit(X_train, y_train)\n",
    "predictions = clf.predict(X_test)\n",
    "cm = confusion_matrix(y_test, predictions, labels=clf.classes_)\n",
    "disp = ConfusionMatrixDisplay(confusion_matrix=cm,\n",
    "                              display_labels=clf.classes_)\n",
    "disp.plot()\n",
    "plt.show()"
   ]
  },
  {
   "cell_type": "code",
   "execution_count": null,
   "id": "91d5a756",
   "metadata": {
    "scrolled": true
   },
   "outputs": [],
   "source": [
    "clf = RandomForestClassifier()\n",
    "imba_pipeline = make_pipeline(SMOTE(random_state=42), clf)\n",
    "imba_pipeline.fit(X_train, y_train)\n"
   ]
  },
  {
   "cell_type": "code",
   "execution_count": null,
   "id": "bafc1dd8",
   "metadata": {},
   "outputs": [],
   "source": [
    "predictions = imba_pipeline.predict(X_test)\n",
    "cm = confusion_matrix(y_test, predictions, labels=imba_pipeline.classes_)\n",
    "disp = ConfusionMatrixDisplay(confusion_matrix=cm,\n",
    "                              display_labels=imba_pipeline.classes_)\n",
    "disp.plot()\n",
    "plt.show()"
   ]
  },
  {
   "cell_type": "markdown",
   "id": "fb083214",
   "metadata": {},
   "source": [
    "### PCA"
   ]
  },
  {
   "cell_type": "code",
   "execution_count": null,
   "id": "d1ab91a4",
   "metadata": {},
   "outputs": [],
   "source": [
    "pca = PCA(n_components=50)\n",
    "X_train_pca = pca.fit_transform(train_set)\n"
   ]
  },
  {
   "cell_type": "code",
   "execution_count": null,
   "id": "bcd2cd07",
   "metadata": {},
   "outputs": [],
   "source": [
    "## 10-fold cross validation scores\n",
    "run_classifier_with_upsampling(X_train_pca, train_labels, 'lda')\n",
    "run_classifier_with_upsampling(X_train_pca, train_labels, 'log_reg')\n",
    "run_classifier_with_upsampling(X_train_pca, train_labels, 'svm')\n",
    "run_classifier_with_upsampling(X_train_pca, train_labels, 'decision_tree')\n",
    "run_classifier_with_upsampling(X_train_pca, train_labels, 'random_forest')"
   ]
  }
 ],
 "metadata": {
  "kernelspec": {
   "display_name": "Python 3 (ipykernel)",
   "language": "python",
   "name": "python3"
  },
  "language_info": {
   "codemirror_mode": {
    "name": "ipython",
    "version": 3
   },
   "file_extension": ".py",
   "mimetype": "text/x-python",
   "name": "python",
   "nbconvert_exporter": "python",
   "pygments_lexer": "ipython3",
   "version": "3.11.4"
  }
 },
 "nbformat": 4,
 "nbformat_minor": 5
}
